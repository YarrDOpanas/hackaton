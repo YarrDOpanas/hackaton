{
 "cells": [
  {
   "cell_type": "code",
   "execution_count": 3,
   "metadata": {},
   "outputs": [
    {
     "ename": "ModuleNotFoundError",
     "evalue": "No module named 'PIL'",
     "output_type": "error",
     "traceback": [
      "\u001b[0;31m---------------------------------------------------------------------------\u001b[0m",
      "\u001b[0;31mModuleNotFoundError\u001b[0m                       Traceback (most recent call last)",
      "\u001b[0;32m<ipython-input-3-f38707957c59>\u001b[0m in \u001b[0;36m<module>\u001b[0;34m()\u001b[0m\n\u001b[1;32m      3\u001b[0m \u001b[0;32mimport\u001b[0m \u001b[0mtensorflow\u001b[0m \u001b[0;32mas\u001b[0m \u001b[0mtf\u001b[0m\u001b[0;34m\u001b[0m\u001b[0m\n\u001b[1;32m      4\u001b[0m \u001b[0;32mimport\u001b[0m \u001b[0mmath\u001b[0m\u001b[0;34m\u001b[0m\u001b[0m\n\u001b[0;32m----> 5\u001b[0;31m \u001b[0;32mfrom\u001b[0m \u001b[0mPIL\u001b[0m \u001b[0;32mimport\u001b[0m \u001b[0mImage\u001b[0m\u001b[0;34m\u001b[0m\u001b[0m\n\u001b[0m\u001b[1;32m      6\u001b[0m \u001b[0;32mimport\u001b[0m \u001b[0mcv2\u001b[0m\u001b[0;34m\u001b[0m\u001b[0m\n\u001b[1;32m      7\u001b[0m \u001b[0;32mimport\u001b[0m \u001b[0mos\u001b[0m\u001b[0;34m\u001b[0m\u001b[0m\n",
      "\u001b[0;31mModuleNotFoundError\u001b[0m: No module named 'PIL'"
     ]
    }
   ],
   "source": [
    "import numpy as np\n",
    "import pandas as pd\n",
    "import tensorflow as tf\n",
    "import math\n",
    "from PIL import Image\n",
    "import cv2\n",
    "import os\n",
    "import matplotlib.pyplot as plt\n"
   ]
  },
  {
   "cell_type": "code",
   "execution_count": 43,
   "metadata": {},
   "outputs": [],
   "source": [
    "def label_img(name, folder):\n",
    "    if folder!= 'pictures/data_vlad':\n",
    "        word_label = list(name)[0]\n",
    "    else:\n",
    "        word_label = list(name)[-5]\n",
    "    return word_label"
   ]
  },
  {
   "cell_type": "code",
   "execution_count": 2,
   "metadata": {},
   "outputs": [
    {
     "ename": "NameError",
     "evalue": "name 'os' is not defined",
     "output_type": "error",
     "traceback": [
      "\u001b[0;31m---------------------------------------------------------------------------\u001b[0m",
      "\u001b[0;31mNameError\u001b[0m                                 Traceback (most recent call last)",
      "\u001b[0;32m<ipython-input-2-f255d6b665ca>\u001b[0m in \u001b[0;36m<module>\u001b[0;34m()\u001b[0m\n\u001b[1;32m     33\u001b[0m     \u001b[0mtrain_data\u001b[0m \u001b[0;34m=\u001b[0m \u001b[0mnp\u001b[0m\u001b[0;34m.\u001b[0m\u001b[0marray\u001b[0m\u001b[0;34m(\u001b[0m\u001b[0mtrain_data\u001b[0m\u001b[0;34m)\u001b[0m\u001b[0;34m\u001b[0m\u001b[0m\n\u001b[1;32m     34\u001b[0m     \u001b[0;32mreturn\u001b[0m \u001b[0mtrain_data\u001b[0m\u001b[0;34m,\u001b[0m \u001b[0mlabels\u001b[0m\u001b[0;34m\u001b[0m\u001b[0m\n\u001b[0;32m---> 35\u001b[0;31m \u001b[0mdata\u001b[0m\u001b[0;34m,\u001b[0m \u001b[0mlabels\u001b[0m \u001b[0;34m=\u001b[0m \u001b[0mload_training_data\u001b[0m\u001b[0;34m(\u001b[0m\u001b[0;34m)\u001b[0m\u001b[0;34m\u001b[0m\u001b[0m\n\u001b[0m",
      "\u001b[0;32m<ipython-input-2-f255d6b665ca>\u001b[0m in \u001b[0;36mload_training_data\u001b[0;34m()\u001b[0m\n\u001b[1;32m      7\u001b[0m     \u001b[0mlabels\u001b[0m \u001b[0;34m=\u001b[0m \u001b[0;34m[\u001b[0m\u001b[0;34m]\u001b[0m\u001b[0;34m\u001b[0m\u001b[0m\n\u001b[1;32m      8\u001b[0m     \u001b[0;32mfor\u001b[0m \u001b[0mfolder\u001b[0m \u001b[0;32min\u001b[0m \u001b[0mDIR\u001b[0m\u001b[0;34m:\u001b[0m\u001b[0;34m\u001b[0m\u001b[0m\n\u001b[0;32m----> 9\u001b[0;31m         \u001b[0;32mfor\u001b[0m \u001b[0mimg\u001b[0m \u001b[0;32min\u001b[0m \u001b[0mos\u001b[0m\u001b[0;34m.\u001b[0m\u001b[0mlistdir\u001b[0m\u001b[0;34m(\u001b[0m\u001b[0mstr\u001b[0m\u001b[0;34m(\u001b[0m\u001b[0mfolder\u001b[0m\u001b[0;34m)\u001b[0m\u001b[0;34m)\u001b[0m\u001b[0;34m:\u001b[0m\u001b[0;34m\u001b[0m\u001b[0m\n\u001b[0m\u001b[1;32m     10\u001b[0m             \u001b[0mlabel\u001b[0m \u001b[0;34m=\u001b[0m \u001b[0mlabel_img\u001b[0m\u001b[0;34m(\u001b[0m\u001b[0mimg\u001b[0m\u001b[0;34m,\u001b[0m \u001b[0mfolder\u001b[0m\u001b[0;34m)\u001b[0m\u001b[0;34m\u001b[0m\u001b[0m\n\u001b[1;32m     11\u001b[0m             \u001b[0mpath\u001b[0m \u001b[0;34m=\u001b[0m \u001b[0mos\u001b[0m\u001b[0;34m.\u001b[0m\u001b[0mpath\u001b[0m\u001b[0;34m.\u001b[0m\u001b[0mjoin\u001b[0m\u001b[0;34m(\u001b[0m\u001b[0mstr\u001b[0m\u001b[0;34m(\u001b[0m\u001b[0mfolder\u001b[0m\u001b[0;34m)\u001b[0m\u001b[0;34m,\u001b[0m \u001b[0mimg\u001b[0m\u001b[0;34m)\u001b[0m\u001b[0;34m\u001b[0m\u001b[0m\n",
      "\u001b[0;31mNameError\u001b[0m: name 'os' is not defined"
     ]
    }
   ],
   "source": [
    "IMG_SIZE = 28\n",
    "import random\n",
    "DIR = ['pictures/data_rus', 'pictures/data_yar', 'pictures/data_max', 'pictures/data_vlad']\n",
    "def load_training_data():\n",
    "    k=0\n",
    "    train_data = []\n",
    "    labels = []\n",
    "    for folder in DIR:\n",
    "        for img in os.listdir(str(folder)):\n",
    "            label = label_img(img, folder)\n",
    "            path = os.path.join(str(folder), img)\n",
    "            img = Image.open(path)\n",
    "            img = img.convert('L')\n",
    "            img = img.resize((IMG_SIZE, IMG_SIZE), Image.ANTIALIAS)\n",
    "            k+=1\n",
    "            img.save('pictures/lol/niga'+str(k)+'.jpg')\n",
    "            \n",
    "            train_data.append(np.array(img))\n",
    "            labels.append(label)\n",
    "            # Basic Data Augmentation - Horizontal Flipping and Vertical Flipping\n",
    "            flip_img = Image.open(path)\n",
    "            flip_img = flip_img.convert('L')\n",
    "            flip_img = flip_img.resize((IMG_SIZE, IMG_SIZE), Image.ANTIALIAS)\n",
    "            flip_img1 = np.array(flip_img)\n",
    "#             flip_img = np.flip(flip_img1,axis=1)\n",
    "#             train_data.append(flip_img)\n",
    "#             labels.append(label)\n",
    "            flip_img = np.flip(flip_img1,axis=0)\n",
    "            train_data.append(flip_img)\n",
    "            labels.append(label)\n",
    "\n",
    "    #     random.shuffle(train_data)\n",
    "    train_data = np.array(train_data)\n",
    "    return train_data, labels\n",
    "data, labels = load_training_data()"
   ]
  },
  {
   "cell_type": "code",
   "execution_count": 160,
   "metadata": {},
   "outputs": [],
   "source": [
    "def augment_images(data, labels, copies = 1, rotation=True, shear=True, shift=True, zoom=True):\n",
    "    augmented_data = []\n",
    "    augmented_labels = []\n",
    "    \n",
    "    for i in range (0, np.shape(labels)[0]):\n",
    "        augmented_data.append(data[i])\n",
    "        augmented_labels.append(labels[i])\n",
    "        \n",
    "        for j in range(1, copies):            \n",
    "            img = data[i]\n",
    "            lbl = labels[i]\n",
    "                        \n",
    "            if (rotation):\n",
    "                img = tf.contrib.keras.preprocessing.image.random_rotation(img, 15, row_axis=0, col_axis=1, channel_axis=2)\n",
    "            if (shear):\n",
    "                img = tf.contrib.keras.preprocessing.image.random_shear(img, 0.1, row_axis=0, col_axis=1, channel_axis=2)\n",
    "            if (shift):\n",
    "                img = tf.contrib.keras.preprocessing.image.random_shift(img, 0.15, 0.15, row_axis=0, col_axis=1, channel_axis=2)\n",
    "            if (zoom):\n",
    "                img = tf.contrib.keras.preprocessing.image.random_zoom(img, (0.9, 1.1), row_axis=0, col_axis=1, channel_axis=2)\n",
    "            \n",
    "            augmented_data.append(img)\n",
    "            augmented_labels.append(lbl)\n",
    "    \n",
    "    return np.array(augmented_data), np.array(augmented_labels)"
   ]
  },
  {
   "cell_type": "code",
   "execution_count": 161,
   "metadata": {},
   "outputs": [],
   "source": [
    "X = data.reshape(-1, 28, 28, 1).astype(np.float32)\n",
    "X /= 255.0\n",
    "# X_test = test_data.values.reshape(-1, image_size, image_size, num_channels).astype(np.float32)\n"
   ]
  },
  {
   "cell_type": "code",
   "execution_count": 162,
   "metadata": {},
   "outputs": [
    {
     "data": {
      "image/png": "[encoded data removed]",
      "text/plain": [
       "<Figure size 1440x1440 with 100 Axes>"
      ]
     },
     "metadata": {
      "needs_background": "light"
     },
     "output_type": "display_data"
    }
   ],
   "source": [
    "x = X[:10]\n",
    "y = labels[:10]\n",
    "x, y = augment_images(x, y, copies=10,zoom=False)\n",
    "\n",
    "plt.figure(figsize=(20,20))\n",
    "for i in range(len(x)):\n",
    "    plt.subplot(10,10,1+i)\n",
    "    plt.imshow(x[i].reshape(28,28), cmap='gist_gray')\n",
    "    \n"
   ]
  },
  {
   "cell_type": "code",
   "execution_count": 163,
   "metadata": {},
   "outputs": [],
   "source": [
    "data_, labels_ = augment_images(X, labels, copies=10,zoom=False)"
   ]
  },
  {
   "cell_type": "code",
   "execution_count": 212,
   "metadata": {},
   "outputs": [
    {
     "data": {
      "text/plain": [
       "((7940, 28, 28, 1), (7940,))"
      ]
     },
     "execution_count": 212,
     "metadata": {},
     "output_type": "execute_result"
    }
   ],
   "source": [
    "data_.shape, labels_.shape"
   ]
  },
  {
   "cell_type": "code",
   "execution_count": 225,
   "metadata": {},
   "outputs": [],
   "source": [
    "from sklearn.preprocessing import OneHotEncoder\n",
    "import pandas as pd\n",
    "labels_ = pd.get_dummies(labels_).values\n"
   ]
  },
  {
   "cell_type": "code",
   "execution_count": 226,
   "metadata": {},
   "outputs": [
    {
     "name": "stdout",
     "output_type": "stream",
     "text": [
      "7940 == 7940\n"
     ]
    }
   ],
   "source": [
    "print(len(data_),'==', len(labels_))"
   ]
  },
  {
   "cell_type": "code",
   "execution_count": 166,
   "metadata": {},
   "outputs": [
    {
     "data": {
      "text/plain": [
       "<matplotlib.image.AxesImage at 0x20e525dd048>"
      ]
     },
     "execution_count": 166,
     "metadata": {},
     "output_type": "execute_result"
    },
    {
     "data": {
      "image/png": "[encoded data removed]",
      "text/plain": [
       "<Figure size 432x288 with 1 Axes>"
      ]
     },
     "metadata": {
      "needs_background": "light"
     },
     "output_type": "display_data"
    }
   ],
   "source": [
    "k=4\n",
    "plt.title(labels[k])\n",
    "plt.imshow(data[k], cmap = 'gist_gray')\n"
   ]
  },
  {
   "cell_type": "code",
   "execution_count": 167,
   "metadata": {},
   "outputs": [],
   "source": [
    "from sklearn.model_selection import train_test_split"
   ]
  },
  {
   "cell_type": "code",
   "execution_count": 227,
   "metadata": {},
   "outputs": [],
   "source": [
    "train_data,test_data,train_labels, test_labels = train_test_split(data_,labels_,test_size=0.2)"
   ]
  },
  {
   "cell_type": "code",
   "execution_count": 229,
   "metadata": {},
   "outputs": [],
   "source": [
    "# train_labels = np.array(list(map(lambda x:int(x),train_labels)))\n",
    "# test_labels = np.array(list(map(lambda x:int(x),test_labels)))"
   ]
  },
  {
   "cell_type": "code",
   "execution_count": 230,
   "metadata": {},
   "outputs": [],
   "source": [
    "X_train, X_valid, Y_train, Y_valid = train_test_split(data_,labels_,test_size=0.2)\n",
    "# Y_train = np.array(list(map(lambda x:int(x),Y_train)))\n",
    "# Y_vlaid = np.array(list(map(lambda x:int(x),Y_valid)))"
   ]
  },
  {
   "cell_type": "code",
   "execution_count": null,
   "metadata": {},
   "outputs": [],
   "source": []
  },
  {
   "cell_type": "code",
   "execution_count": 236,
   "metadata": {},
   "outputs": [],
   "source": [
    "image_size = 28\n",
    "num_channels = 1\n",
    "num_labels = 8\n",
    "graph = tf.Graph()\n",
    "with graph.as_default():\n",
    "    \n",
    "    X = tf.placeholder(tf.float32, shape=(None,image_size,image_size,num_channels))\n",
    "    Y_ = tf.placeholder(tf.float32, shape=(None,num_labels))\n",
    "    tf_step = tf.placeholder(tf.float32)\n",
    "    tf_pkeep = tf.placeholder(tf.float32)\n",
    "    \n",
    "    tf_test_dataset = tf.constant(X_valid)\n",
    "    \n",
    "    K = 6  # first convolutional layer output depth\n",
    "    L = 12  # second convolutional layer output depth\n",
    "    M = 24  # third convolutional layer output depth\n",
    "    N = 200  # fully connected layer\n",
    "\n",
    "    W1 = tf.Variable(tf.truncated_normal([6, 6, 1, K], stddev=0.1))  # 6x6 patch, 1 input channel, K output channels\n",
    "    B1 = tf.Variable(tf.constant(0.1, tf.float32, [K]))\n",
    "    W2 = tf.Variable(tf.truncated_normal([5, 5, K, L], stddev=0.1))\n",
    "    B2 = tf.Variable(tf.constant(0.1, tf.float32, [L]))\n",
    "    W3 = tf.Variable(tf.truncated_normal([4, 4, L, M], stddev=0.1))\n",
    "    B3 = tf.Variable(tf.constant(0.1, tf.float32, [M]))\n",
    "    W4 = tf.Variable(tf.truncated_normal([7 * 7 * M, N], stddev=0.1))\n",
    "    B4 = tf.Variable(tf.constant(0.1, tf.float32, [N]))\n",
    "    W5 = tf.Variable(tf.truncated_normal([N, 8], stddev=0.1))\n",
    "    B5 = tf.Variable(tf.constant(0.1, tf.float32, [8]))\n",
    "    \n",
    "    def model(data):\n",
    "        Y1 = tf.nn.relu(tf.nn.conv2d(data, W1, strides=[1, 1, 1, 1], padding='SAME') + B1) # output is 28x28\n",
    "        Y2 = tf.nn.relu(tf.nn.conv2d(Y1, W2, strides=[1, 2, 2, 1], padding='SAME') + B2) # output is 14x14\n",
    "        Y3 = tf.nn.relu(tf.nn.conv2d(Y2, W3, strides=[1, 2, 2, 1], padding='SAME') + B3)  # output is 7x7\n",
    "        Y3_flat = tf.reshape(Y3, shape=[-1, 7 * 7 * M])\n",
    "        Y4 = tf.nn.dropout(tf.nn.relu(tf.matmul(Y3_flat, W4) + B4), tf_pkeep)\n",
    "        return tf.matmul(Y4, W5) + B5\n",
    "    \n",
    "    logits = model(X)\n",
    "    loss = tf.reduce_mean(tf.nn.softmax_cross_entropy_with_logits_v2(logits=logits, labels=Y_))*100\n",
    "    \n",
    "    lr = 0.0001 + tf.train.exponential_decay(0.005, tf_step, 2000, 1/math.e)\n",
    "    optimizer = tf.train.AdamOptimizer(lr).minimize(loss)   \n",
    "    \n",
    "    Y = tf.nn.softmax(logits)\n",
    "    Y_test = tf.nn.softmax(model(tf_test_dataset))\n",
    "    \n",
    "    accuracy = tf.reduce_mean(tf.cast(tf.equal(tf.argmax(Y, 1), tf.argmax(Y_, 1)), tf.float32))"
   ]
  },
  {
   "cell_type": "code",
   "execution_count": null,
   "metadata": {},
   "outputs": [
    {
     "name": "stdout",
     "output_type": "stream",
     "text": [
      "0: accuracy: 0.09 loss: 237.63757 (lr:0.0050999997)\n",
      "0: validation accuracy: 0.12972292 validation loss: 238.90233\n",
      "100: accuracy: 0.06 loss: 208.73819 (lr:0.004856147)\n",
      "200: accuracy: 0.15 loss: 207.79842 (lr:0.004624187)\n",
      "300: accuracy: 0.16 loss: 208.1579 (lr:0.00440354)\n"
     ]
    }
   ],
   "source": [
    "num_steps = 30001\n",
    "batch_size = 100\n",
    "\n",
    "acc = []\n",
    "costs = []\n",
    "rates = []\n",
    "\n",
    "with tf.Session(graph=graph) as session:\n",
    "    tf.global_variables_initializer().run()\n",
    "    \n",
    "    for step in range(num_steps):\n",
    "        offset = (step * batch_size) % (Y_train.shape[0] - batch_size)\n",
    "        batch_data = X_train[offset:(offset + batch_size), :, :, :]\n",
    "        batch_labels = Y_train[offset:(offset + batch_size), :]\n",
    "        \n",
    "        if (step % 100 == 0):\n",
    "            a, l, r = session.run([accuracy, loss, lr], feed_dict={\n",
    "                X : batch_data, \n",
    "                Y_ : batch_labels,\n",
    "                tf_pkeep : 1.0,\n",
    "                tf_step : step\n",
    "            })\n",
    "            print(str(step) + \": accuracy: \" + str(a) + \" loss: \" + str(l) + \" (lr:\" + str(r) + \")\")\n",
    "        \n",
    "        if (step % 500 == 0):\n",
    "            a, l = session.run([accuracy, loss], feed_dict={\n",
    "                X : X_valid, \n",
    "                Y_ : Y_valid,\n",
    "                tf_pkeep : 1.0\n",
    "            })\n",
    "            print(str(step) + \": validation accuracy: \" + str(a) + \" validation loss: \" + str(l))        \n",
    "        \n",
    "        _, a, l, r = session.run([optimizer, accuracy, loss, lr], feed_dict={\n",
    "            X : batch_data, \n",
    "            Y_: batch_labels,\n",
    "            tf_pkeep : 0.75,\n",
    "            tf_step : step\n",
    "        })\n",
    "        \n",
    "        if (step % 10 == 0):\n",
    "            costs.append(l)\n",
    "            rates.append(r)\n",
    "            acc.append(a)\n",
    "            "
   ]
  },
  {
   "cell_type": "code",
   "execution_count": null,
   "metadata": {},
   "outputs": [],
   "source": []
  },
  {
   "cell_type": "code",
   "execution_count": null,
   "metadata": {},
   "outputs": [],
   "source": []
  },
  {
   "cell_type": "code",
   "execution_count": null,
   "metadata": {},
   "outputs": [],
   "source": []
  },
  {
   "cell_type": "code",
   "execution_count": null,
   "metadata": {},
   "outputs": [],
   "source": []
  },
  {
   "cell_type": "code",
   "execution_count": null,
   "metadata": {},
   "outputs": [],
   "source": []
  },
  {
   "cell_type": "code",
   "execution_count": null,
   "metadata": {},
   "outputs": [],
   "source": []
  },
  {
   "cell_type": "code",
   "execution_count": null,
   "metadata": {},
   "outputs": [],
   "source": []
  },
  {
   "cell_type": "code",
   "execution_count": 211,
   "metadata": {},
   "outputs": [],
   "source": [
    "def cnn_model_fn(features, labels, mode):\n",
    "    \"\"\"Model function for CNN.\"\"\"\n",
    "    # Input Layer\n",
    "    input_layer = tf.reshape(features[\"x\"], [-1, 150, 150, 1])\n",
    "\n",
    "    # Convolutional Layer #1\n",
    "    conv1 = tf.layers.conv2d(\n",
    "      inputs=input_layer,\n",
    "      filters=32,\n",
    "      kernel_size=[5, 5],\n",
    "      padding=\"same\",\n",
    "      activation=tf.nn.relu)\n",
    "\n",
    "    # Pooling Layer #1\n",
    "    pool1 = tf.layers.max_pooling2d(inputs=conv1, pool_size=[2, 2], strides=2)\n",
    "\n",
    "    # Convolutional Layer #2 and Pooling Layer #2\n",
    "    conv2 = tf.layers.conv2d(\n",
    "      inputs=pool1,\n",
    "      filters=64,\n",
    "      kernel_size=[5, 5],\n",
    "      padding=\"same\",\n",
    "      activation=tf.nn.relu)\n",
    "    pool2 = tf.layers.max_pooling2d(inputs=conv2, pool_size=[2, 2], strides=2)\n",
    "\n",
    "    # Dense Layer\n",
    "    pool2_flat = tf.reshape(pool2, [-1, 7 * 7 * 64])\n",
    "    dense = tf.layers.dense(inputs=pool2_flat, units=1024, activation=tf.nn.relu)\n",
    "    dropout = tf.layers.dropout(\n",
    "      inputs=dense, rate=0.4, training=mode == tf.estimator.ModeKeys.TRAIN)\n",
    "\n",
    "    # Logits Layer\n",
    "    logits = tf.layers.dense(inputs=dropout, units=8)\n",
    "\n",
    "    predictions = {\n",
    "      # Generate predictions (for PREDICT and EVAL mode)\n",
    "      \"classes\": tf.argmax(input=logits, axis=1),\n",
    "      # Add `softmax_tensor` to the graph. It is used for PREDICT and by the\n",
    "      # `logging_hook`.\n",
    "      \"probabilities\": tf.nn.softmax(logits, name=\"softmax_tensor\")\n",
    "    }\n",
    "\n",
    "    if mode == tf.estimator.ModeKeys.PREDICT:\n",
    "        return tf.estimator.EstimatorSpec(mode=mode, predictions=predictions)\n",
    "\n",
    "    # Calculate Loss (for both TRAIN and EVAL modes)\n",
    "    loss = tf.losses.sparse_softmax_cross_entropy(labels=labels, logits=logits)\n",
    "\n",
    "    # Configure the Training Op (for TRAIN mode)\n",
    "    if mode == tf.estimator.ModeKeys.TRAIN:\n",
    "        optimizer = tf.train.GradientDescentOptimizer(learning_rate=0.001)\n",
    "        train_op = optimizer.minimize(\n",
    "            loss=loss,\n",
    "            global_step=tf.train.get_global_step())\n",
    "        return tf.estimator.EstimatorSpec(mode=mode, loss=loss, train_op=train_op)\n",
    "\n",
    "    # Add evaluation metrics (for EVAL mode)\n",
    "    eval_metric_ops = {\n",
    "      \"accuracy\": tf.metrics.accuracy(\n",
    "          labels=labels, predictions=predictions[\"classes\"])\n",
    "    }\n",
    "    return tf.estimator.EstimatorSpec(mode=mode, loss=loss, eval_metric_ops=eval_metric_ops)\n"
   ]
  },
  {
   "cell_type": "code",
   "execution_count": 216,
   "metadata": {},
   "outputs": [],
   "source": [
    "train_data = train_data/np.float32(255)"
   ]
  },
  {
   "cell_type": "code",
   "execution_count": 217,
   "metadata": {},
   "outputs": [],
   "source": [
    "test_data = test_data/np.float32(255)"
   ]
  },
  {
   "cell_type": "code",
   "execution_count": 218,
   "metadata": {},
   "outputs": [
    {
     "name": "stdout",
     "output_type": "stream",
     "text": [
      "INFO:tensorflow:Using default config.\n",
      "INFO:tensorflow:Using config: {'_model_dir': 'dataset', '_tf_random_seed': None, '_save_summary_steps': 100, '_save_checkpoints_steps': None, '_save_checkpoints_secs': 600, '_session_config': None, '_keep_checkpoint_max': 5, '_keep_checkpoint_every_n_hours': 10000, '_log_step_count_steps': 100, '_train_distribute': None, '_device_fn': None, '_service': None, '_cluster_spec': <tensorflow.python.training.server_lib.ClusterSpec object at 0x0000013784329CF8>, '_task_type': 'worker', '_task_id': 0, '_global_id_in_cluster': 0, '_master': '', '_evaluation_master': '', '_is_chief': True, '_num_ps_replicas': 0, '_num_worker_replicas': 1}\n"
     ]
    }
   ],
   "source": [
    "mnist_classifier = tf.estimator.Estimator(\n",
    "    model_fn=cnn_model_fn, model_dir=\"dataset\")"
   ]
  },
  {
   "cell_type": "code",
   "execution_count": 219,
   "metadata": {},
   "outputs": [],
   "source": [
    "# Set up logging for predictions\n",
    "tensors_to_log = {\"probabilities\": \"softmax_tensor\"}\n",
    "\n",
    "logging_hook = tf.train.LoggingTensorHook(\n",
    "    tensors=tensors_to_log, every_n_iter=50)"
   ]
  },
  {
   "cell_type": "code",
   "execution_count": 220,
   "metadata": {},
   "outputs": [
    {
     "name": "stdout",
     "output_type": "stream",
     "text": [
      "INFO:tensorflow:Calling model_fn.\n",
      "INFO:tensorflow:Done calling model_fn.\n",
      "INFO:tensorflow:Create CheckpointSaverHook.\n",
      "INFO:tensorflow:Graph was finalized.\n",
      "INFO:tensorflow:Running local_init_op.\n",
      "INFO:tensorflow:Done running local_init_op.\n",
      "INFO:tensorflow:Saving checkpoints for 0 into dataset\\model.ckpt.\n",
      "INFO:tensorflow:probabilities = [[0.08526655 0.10135385 0.09941622 0.11201698 0.08136516 0.09435701\n",
      "  0.09745558 0.09124628 0.1111957  0.12632658]\n",
      " [0.09647483 0.10291225 0.10550485 0.0981292  0.08459903 0.08427482\n",
      "  0.09545761 0.1084789  0.10734597 0.11682257]\n",
      " [0.0832095  0.09292895 0.08965291 0.1005252  0.08360462 0.10969655\n",
      "  0.10569964 0.0926978  0.11180252 0.13018234]\n",
      " [0.08078454 0.08311411 0.08653757 0.09818519 0.08410332 0.10458131\n",
      "  0.11178196 0.09364876 0.12779696 0.12946633]\n",
      " [0.07406542 0.11670486 0.09724385 0.09330761 0.0866298  0.1030398\n",
      "  0.10105841 0.09524287 0.12699899 0.10570833]\n",
      " [0.07857709 0.10118433 0.10367776 0.09810138 0.08171866 0.10735726\n",
      "  0.08638439 0.10577937 0.11915524 0.11806449]\n",
      " [0.08297348 0.08727448 0.09279238 0.08462791 0.07412398 0.10737678\n",
      "  0.10085382 0.09860794 0.14318311 0.1281862 ]\n",
      " [0.0802035  0.10341962 0.09907705 0.09614921 0.11489215 0.09418882\n",
      "  0.08567282 0.09525335 0.12426621 0.1068773 ]\n",
      " [0.08371458 0.08473556 0.08154261 0.12007254 0.09058242 0.10621294\n",
      "  0.09371654 0.10367314 0.12716842 0.10858121]\n",
      " [0.09838676 0.11794978 0.10338047 0.09179303 0.06592436 0.09848512\n",
      "  0.10354266 0.09265499 0.10816118 0.11972178]\n",
      " [0.07976359 0.09381707 0.09227978 0.10852738 0.0906546  0.09560484\n",
      "  0.08622424 0.11373939 0.12094925 0.1184399 ]\n",
      " [0.08333992 0.09057827 0.10082391 0.10656364 0.08397847 0.10798607\n",
      "  0.09834071 0.08693507 0.12261629 0.11883771]\n",
      " [0.09445691 0.09423307 0.08820641 0.10083538 0.09170611 0.08691893\n",
      "  0.08635903 0.10194387 0.14315835 0.1121819 ]\n",
      " [0.08788127 0.09175125 0.09360414 0.09404847 0.0866193  0.10531533\n",
      "  0.11295153 0.10277325 0.11128543 0.11377002]\n",
      " [0.07449389 0.09624978 0.11053623 0.11871285 0.083596   0.10017357\n",
      "  0.10587975 0.09224416 0.10933515 0.10877855]\n",
      " [0.08325016 0.08822545 0.10177962 0.13087144 0.08416017 0.10151029\n",
      "  0.09483172 0.09068559 0.10707995 0.11760557]\n",
      " [0.08101877 0.10714626 0.08861706 0.11557379 0.09885461 0.09675146\n",
      "  0.09385261 0.08910755 0.10860706 0.12047082]\n",
      " [0.07870415 0.10629353 0.0844661  0.10488182 0.08590482 0.11959804\n",
      "  0.10472547 0.09100262 0.12017151 0.10425194]\n",
      " [0.09109963 0.11017429 0.0865477  0.11534929 0.07922263 0.10174061\n",
      "  0.1071113  0.07571997 0.10178623 0.13124838]\n",
      " [0.06941339 0.11534888 0.0969695  0.10226972 0.08322906 0.11576743\n",
      "  0.10663456 0.08462112 0.11241613 0.11333023]\n",
      " [0.08821012 0.09615161 0.08711267 0.10817415 0.08574554 0.12232872\n",
      "  0.11261913 0.08513694 0.10057299 0.11394804]\n",
      " [0.08013042 0.09975646 0.08986104 0.09405473 0.11683251 0.10200913\n",
      "  0.09192392 0.0979108  0.10891613 0.11860493]\n",
      " [0.0842996  0.09283477 0.08522286 0.10379256 0.08937073 0.09626057\n",
      "  0.10198225 0.11134487 0.11124925 0.12364256]\n",
      " [0.07868616 0.10856252 0.10074622 0.10665262 0.07324474 0.09401402\n",
      "  0.10998152 0.09774852 0.11565679 0.1147069 ]\n",
      " [0.08378153 0.10057875 0.09046486 0.09922076 0.0905254  0.09205977\n",
      "  0.10675456 0.10340849 0.11901549 0.1141903 ]\n",
      " [0.07544793 0.11072285 0.09155579 0.09986015 0.0835602  0.10802101\n",
      "  0.10289944 0.10200813 0.11208382 0.11384074]\n",
      " [0.07949949 0.10902096 0.08904765 0.09200421 0.08448024 0.09305585\n",
      "  0.11288028 0.08852632 0.13164413 0.11984088]\n",
      " [0.07639032 0.08194852 0.07535801 0.11856923 0.09255446 0.1013854\n",
      "  0.10239729 0.09946566 0.14097168 0.11095939]\n",
      " [0.09035459 0.09754273 0.08975933 0.10812785 0.08057706 0.08729496\n",
      "  0.100442   0.10133815 0.11867275 0.12589051]\n",
      " [0.09434447 0.11438522 0.09635291 0.10736183 0.08236951 0.1018511\n",
      "  0.08142741 0.10198494 0.09757998 0.12234258]\n",
      " [0.07674095 0.10157295 0.10168793 0.10217386 0.07640444 0.09060397\n",
      "  0.10692059 0.10567608 0.12886669 0.10935251]\n",
      " [0.09070612 0.10837746 0.08756685 0.1040983  0.09783135 0.10246828\n",
      "  0.09010718 0.08508985 0.106129   0.12762555]\n",
      " [0.08861306 0.10642117 0.0810299  0.12265562 0.08643327 0.10963622\n",
      "  0.08682411 0.08896421 0.12896758 0.10045491]\n",
      " [0.09116191 0.09635444 0.08416389 0.1056137  0.09596082 0.09616902\n",
      "  0.10325921 0.09186874 0.11195198 0.12349626]\n",
      " [0.09084672 0.10745104 0.10016224 0.10297626 0.07724313 0.11340401\n",
      "  0.09867097 0.09407859 0.09643109 0.11873598]\n",
      " [0.08255686 0.11072172 0.10305203 0.10763014 0.08928379 0.08273103\n",
      "  0.11365228 0.08776408 0.12816201 0.094446  ]\n",
      " [0.09260471 0.0930797  0.0936959  0.10446711 0.08133404 0.09433299\n",
      "  0.08887972 0.08851005 0.14134435 0.12175144]\n",
      " [0.09409107 0.09128319 0.08474807 0.11991544 0.08700128 0.09244585\n",
      "  0.09379239 0.09847845 0.1341964  0.10404784]\n",
      " [0.08338346 0.10381258 0.09917898 0.09844828 0.08088321 0.11598147\n",
      "  0.08543918 0.09382767 0.10328729 0.13575786]\n",
      " [0.09080167 0.09202024 0.10156693 0.09965247 0.09426116 0.10141497\n",
      "  0.08421807 0.09426806 0.12023249 0.12156396]\n",
      " [0.07670207 0.09758475 0.08752378 0.10937961 0.08227628 0.11251989\n",
      "  0.10949616 0.09550137 0.11601096 0.11300509]\n",
      " [0.07932142 0.09723157 0.09072372 0.10811995 0.09788296 0.11272819\n",
      "  0.09838085 0.09447815 0.10634674 0.11478645]\n",
      " [0.0853898  0.11655635 0.09943845 0.09945814 0.07064985 0.10897712\n",
      "  0.1000528  0.08592382 0.11855221 0.1150015 ]\n",
      " [0.08244787 0.09762339 0.08252616 0.10180438 0.09011833 0.09487376\n",
      "  0.10749622 0.10427875 0.12247571 0.11635538]\n",
      " [0.08467083 0.09671383 0.09395532 0.11391618 0.10789304 0.08900184\n",
      "  0.0959073  0.1026091  0.11628282 0.09904972]\n",
      " [0.07760347 0.1179943  0.09254864 0.08185737 0.08876652 0.09386503\n",
      "  0.1040469  0.09397453 0.11670992 0.13263327]\n",
      " [0.07289699 0.10470218 0.11127669 0.0956274  0.09127947 0.10497507\n",
      "  0.09951173 0.1173048  0.1132042  0.08922151]\n",
      " [0.08452642 0.11002629 0.08700211 0.11757    0.09840887 0.08309733\n",
      "  0.08851314 0.09466974 0.11502738 0.12115876]\n",
      " [0.08110286 0.10747104 0.09411911 0.09505754 0.09543658 0.10558073\n",
      "  0.09912525 0.0956069  0.10862705 0.11787302]\n",
      " [0.08227126 0.08911725 0.09138019 0.10688909 0.08407249 0.10726495\n",
      "  0.09815783 0.1110689  0.11217544 0.11760254]\n",
      " [0.08352987 0.10118102 0.11465952 0.09883939 0.08704153 0.09985361\n",
      "  0.09452268 0.09727667 0.11150386 0.11159185]\n",
      " [0.08387412 0.08829492 0.09597326 0.11061662 0.1003831  0.09779821\n",
      "  0.09601396 0.08620512 0.12217502 0.11866564]\n",
      " [0.07886291 0.09940144 0.09166025 0.11737303 0.09160502 0.10235864\n",
      "  0.09930766 0.09395991 0.11787719 0.10759387]\n",
      " [0.08312192 0.09864612 0.09823239 0.0944734  0.10637036 0.08470802\n",
      "  0.09945417 0.08992404 0.13187043 0.1131992 ]\n",
      " [0.084992   0.0981705  0.10172386 0.1116769  0.09939916 0.0903577\n",
      "  0.0965079  0.08740935 0.11194123 0.11782145]\n",
      " [0.08610134 0.10267702 0.08305735 0.10280361 0.08475675 0.10032701\n",
      "  0.11271864 0.11186385 0.11055043 0.10514398]\n",
      " [0.07768894 0.09926519 0.07920284 0.10356478 0.08746836 0.07798196\n",
      "  0.10618474 0.10940406 0.14212516 0.11711396]\n",
      " [0.09595665 0.1095234  0.09365994 0.08724025 0.07837991 0.11672588\n",
      "  0.09576693 0.10402966 0.11388626 0.10483108]\n",
      " [0.0901482  0.09484152 0.09705035 0.1050918  0.09228595 0.08103265\n",
      "  0.10247072 0.10462654 0.1085776  0.12387468]\n",
      " [0.08183034 0.08269939 0.09899327 0.10330539 0.10419024 0.10483184\n",
      "  0.09436073 0.09557932 0.12990892 0.10430053]\n",
      " [0.07226071 0.09523041 0.09707744 0.0970044  0.07929181 0.12524214\n",
      "  0.09259262 0.09753231 0.10393745 0.13983077]\n",
      " [0.07569492 0.10427456 0.09674276 0.10618671 0.08209527 0.10110427\n",
      "  0.09444189 0.09265926 0.1314466  0.11535371]\n",
      " [0.0847562  0.10167433 0.08170068 0.09467138 0.09345285 0.10289066\n",
      "  0.10566834 0.08502512 0.12282648 0.12733398]\n",
      " [0.0858051  0.09339128 0.10209794 0.11892586 0.09067733 0.10724518\n",
      "  0.09144133 0.09814464 0.11315022 0.09912106]\n",
      " [0.08179019 0.09732231 0.09384476 0.10824441 0.08564267 0.1083716\n",
      "  0.08740401 0.10585372 0.10796455 0.12356188]\n",
      " [0.08198766 0.11465154 0.09162527 0.10401524 0.08780228 0.10756569\n",
      "  0.10177889 0.1025907  0.10867833 0.09930441]\n",
      " [0.079386   0.11499105 0.09004956 0.093761   0.07941394 0.11202844\n",
      "  0.09420875 0.11117777 0.11005551 0.11492809]\n",
      " [0.09020653 0.09165369 0.08818641 0.10713578 0.07903191 0.0989311\n",
      "  0.09746966 0.1108376  0.1092738  0.12727356]\n",
      " [0.08412392 0.10331653 0.09480344 0.10425192 0.08583152 0.10147001\n",
      "  0.10072601 0.08200781 0.11199858 0.13147032]\n",
      " [0.08228212 0.1092905  0.10519465 0.10044618 0.08313052 0.10262661\n",
      "  0.10714463 0.08546472 0.11322127 0.11119881]\n",
      " [0.08603522 0.11193311 0.08274972 0.12193248 0.10049324 0.08815422\n",
      "  0.09400692 0.09042443 0.11784052 0.10643024]\n",
      " [0.09170442 0.08057389 0.09361459 0.10444635 0.09475643 0.10177228\n",
      "  0.095892   0.08738081 0.12244986 0.12740943]\n",
      " [0.09454003 0.10648788 0.09511358 0.09712811 0.0800629  0.08823527\n",
      "  0.09157607 0.09818394 0.1124198  0.13625245]\n",
      " [0.07972468 0.08839073 0.0989946  0.09460706 0.09878542 0.11885235\n",
      "  0.10499881 0.09441346 0.10101191 0.120221  ]\n",
      " [0.07825237 0.0920198  0.08870791 0.10914128 0.08384843 0.08903814\n",
      "  0.11370493 0.09469493 0.14035018 0.11024201]\n",
      " [0.0798154  0.09557009 0.08808429 0.11029845 0.08309168 0.10046769\n",
      "  0.09781469 0.09465254 0.13986863 0.11033654]\n",
      " [0.08166549 0.09746328 0.09110316 0.1085838  0.07862967 0.09585841\n",
      "  0.09629423 0.11088321 0.12994668 0.10957208]\n",
      " [0.08763831 0.10784452 0.11511175 0.10247771 0.08629408 0.0856552\n",
      "  0.10443525 0.09684815 0.1120042  0.10169087]\n",
      " [0.09553615 0.09974828 0.09430314 0.111101   0.07726038 0.09943785\n",
      "  0.09565895 0.11088036 0.10639359 0.10968035]\n",
      " [0.0773765  0.09932335 0.10155424 0.10828105 0.08448932 0.09648759\n",
      "  0.09059343 0.10695076 0.12604663 0.1088971 ]\n",
      " [0.08578572 0.09889842 0.0906354  0.11846753 0.09032033 0.09152987\n",
      "  0.11028349 0.1050159  0.09806594 0.11099749]\n",
      " [0.07912654 0.10515688 0.09365475 0.08706176 0.08223968 0.12615807\n",
      "  0.10113181 0.09913415 0.10810158 0.11823467]\n",
      " [0.0853421  0.09130577 0.09855655 0.10142263 0.07803089 0.1014545\n",
      "  0.1007475  0.10569299 0.11131939 0.12612763]\n",
      " [0.08482291 0.10851651 0.08958286 0.10120011 0.07411978 0.12627025\n",
      "  0.0938147  0.09457447 0.11211796 0.11498059]\n",
      " [0.08559462 0.10060363 0.09078892 0.10671207 0.08435678 0.09107834\n",
      "  0.09820919 0.10209736 0.11318185 0.12737733]\n",
      " [0.07696984 0.09080281 0.09255822 0.11823981 0.0798488  0.11926679\n",
      "  0.10622823 0.0929932  0.1287806  0.09431163]\n",
      " [0.07879756 0.10431158 0.09041371 0.11100472 0.08658797 0.10805794\n",
      "  0.10579704 0.08738384 0.10198458 0.12566103]\n",
      " [0.0864547  0.11135736 0.09915783 0.08473282 0.0804258  0.09286264\n",
      "  0.09054676 0.11137544 0.12098905 0.12209755]\n",
      " [0.09325442 0.10434311 0.0996856  0.10522319 0.08973397 0.10171709\n",
      "  0.09519175 0.08663375 0.10145609 0.12276109]\n",
      " [0.08200444 0.08975277 0.10339876 0.10919904 0.09000649 0.07339023\n",
      "  0.08923563 0.1137141  0.1441723  0.10512627]\n",
      " [0.08777655 0.09623297 0.09480602 0.11248302 0.09589655 0.10151368\n",
      "  0.08729923 0.09355846 0.1138038  0.11662974]\n",
      " [0.08142355 0.10738604 0.08715292 0.11228625 0.08490334 0.10051285\n",
      "  0.10140286 0.08922538 0.12710884 0.10859799]\n",
      " [0.08502637 0.1212474  0.08551703 0.10562867 0.08034098 0.10185959\n",
      "  0.10683047 0.08309362 0.10336554 0.12709032]\n",
      " [0.07396358 0.10099499 0.0926255  0.09467414 0.09374151 0.10381927\n",
      "  0.09001443 0.08893298 0.13642786 0.12480577]\n",
      " [0.0802654  0.10218427 0.10139635 0.08969976 0.09270746 0.10811737\n",
      "  0.09427203 0.10593934 0.11194993 0.11346806]\n",
      " [0.07367588 0.09647258 0.09480327 0.10915523 0.09104273 0.10542964\n",
      "  0.1046727  0.10314988 0.10644133 0.11515671]\n",
      " [0.07983458 0.10269661 0.09044663 0.09443416 0.08142    0.09610862\n",
      "  0.10967661 0.10079305 0.13490433 0.1096855 ]\n",
      " [0.07665315 0.0934393  0.09707054 0.10819865 0.09612355 0.10032198\n",
      "  0.09219677 0.10426433 0.10406087 0.12767088]\n",
      " [0.09283791 0.10374738 0.09961902 0.12229039 0.08273226 0.10374687\n",
      "  0.09019843 0.08434027 0.11286838 0.1076191 ]\n",
      " [0.09161805 0.11066399 0.08816021 0.09965163 0.07401466 0.10926541\n",
      "  0.1074546  0.09837059 0.09951737 0.1212836 ]]\n"
     ]
    },
    {
     "name": "stdout",
     "output_type": "stream",
     "text": [
      "INFO:tensorflow:loss = 2.2949426, step = 1\n",
      "INFO:tensorflow:Saving checkpoints for 1 into dataset\\model.ckpt.\n",
      "INFO:tensorflow:Loss for final step: 2.2949426.\n"
     ]
    },
    {
     "data": {
      "text/plain": [
       "<tensorflow.python.estimator.estimator.Estimator at 0x13784330d30>"
      ]
     },
     "execution_count": 220,
     "metadata": {},
     "output_type": "execute_result"
    }
   ],
   "source": [
    "# Train the model\n",
    "train_input_fn = tf.estimator.inputs.numpy_input_fn(\n",
    "    x={\"x\": train_data},\n",
    "    y=train_labels,\n",
    "    batch_size=100,\n",
    "    num_epochs=None,\n",
    "    shuffle=True)\n",
    "\n",
    "# train one step and display the probabilties\n",
    "mnist_classifier.train(\n",
    "    input_fn=train_input_fn,\n",
    "    steps=1,\n",
    "    hooks=[logging_hook])"
   ]
  },
  {
   "cell_type": "code",
   "execution_count": 221,
   "metadata": {},
   "outputs": [
    {
     "name": "stdout",
     "output_type": "stream",
     "text": [
      "INFO:tensorflow:Calling model_fn.\n",
      "INFO:tensorflow:Done calling model_fn.\n",
      "INFO:tensorflow:Create CheckpointSaverHook.\n",
      "INFO:tensorflow:Graph was finalized.\n",
      "INFO:tensorflow:Restoring parameters from dataset\\model.ckpt-1\n",
      "INFO:tensorflow:Running local_init_op.\n",
      "INFO:tensorflow:Done running local_init_op.\n",
      "INFO:tensorflow:Saving checkpoints for 1 into dataset\\model.ckpt.\n",
      "INFO:tensorflow:loss = 2.325781, step = 2\n",
      "INFO:tensorflow:global_step/sec: 0.43909\n",
      "INFO:tensorflow:loss = 2.2247996, step = 102 (227.868 sec)\n",
      "INFO:tensorflow:global_step/sec: 0.440976\n",
      "INFO:tensorflow:loss = 2.1563408, step = 202 (226.753 sec)\n",
      "INFO:tensorflow:Saving checkpoints for 265 into dataset\\model.ckpt.\n",
      "INFO:tensorflow:global_step/sec: 0.43612\n",
      "INFO:tensorflow:loss = 2.1363306, step = 302 (229.189 sec)\n",
      "INFO:tensorflow:global_step/sec: 0.441225\n",
      "INFO:tensorflow:loss = 2.1250036, step = 402 (226.751 sec)\n",
      "INFO:tensorflow:global_step/sec: 0.440728\n",
      "INFO:tensorflow:loss = 2.103356, step = 502 (226.899 sec)\n",
      "INFO:tensorflow:Saving checkpoints for 529 into dataset\\model.ckpt.\n",
      "INFO:tensorflow:global_step/sec: 0.43358\n",
      "INFO:tensorflow:loss = 2.1375167, step = 602 (230.571 sec)\n",
      "INFO:tensorflow:global_step/sec: 0.436576\n",
      "INFO:tensorflow:loss = 2.158584, step = 702 (229.134 sec)\n",
      "INFO:tensorflow:Saving checkpoints for 792 into dataset\\model.ckpt.\n",
      "INFO:tensorflow:global_step/sec: 0.441277\n",
      "INFO:tensorflow:loss = 2.0953574, step = 802 (226.492 sec)\n",
      "INFO:tensorflow:global_step/sec: 0.444237\n",
      "INFO:tensorflow:loss = 2.1044438, step = 902 (225.223 sec)\n",
      "INFO:tensorflow:Saving checkpoints for 1001 into dataset\\model.ckpt.\n",
      "INFO:tensorflow:Loss for final step: 2.0608106.\n"
     ]
    },
    {
     "data": {
      "text/plain": [
       "<tensorflow.python.estimator.estimator.Estimator at 0x13784330d30>"
      ]
     },
     "execution_count": 221,
     "metadata": {},
     "output_type": "execute_result"
    }
   ],
   "source": [
    "mnist_classifier.train(input_fn=train_input_fn, steps=1000)\n"
   ]
  },
  {
   "cell_type": "code",
   "execution_count": 223,
   "metadata": {},
   "outputs": [
    {
     "name": "stdout",
     "output_type": "stream",
     "text": [
      "INFO:tensorflow:Calling model_fn.\n"
     ]
    },
    {
     "ename": "TypeError",
     "evalue": "Value passed to parameter 'input' has DataType uint8 not in list of allowed values: float16, bfloat16, float32, float64",
     "output_type": "error",
     "traceback": [
      "\u001b[1;31m---------------------------------------------------------------------------\u001b[0m",
      "\u001b[1;31mTypeError\u001b[0m                                 Traceback (most recent call last)",
      "\u001b[1;32m<ipython-input-223-4a27852f9c23>\u001b[0m in \u001b[0;36m<module>\u001b[1;34m\u001b[0m\n\u001b[0;32m      5\u001b[0m     shuffle=False)\n\u001b[0;32m      6\u001b[0m \u001b[1;33m\u001b[0m\u001b[0m\n\u001b[1;32m----> 7\u001b[1;33m \u001b[0meval_results\u001b[0m \u001b[1;33m=\u001b[0m \u001b[0mmnist_classifier\u001b[0m\u001b[1;33m.\u001b[0m\u001b[0mevaluate\u001b[0m\u001b[1;33m(\u001b[0m\u001b[0minput_fn\u001b[0m\u001b[1;33m=\u001b[0m\u001b[0meval_input_fn\u001b[0m\u001b[1;33m)\u001b[0m\u001b[1;33m\u001b[0m\u001b[0m\n\u001b[0m\u001b[0;32m      8\u001b[0m \u001b[0mprint\u001b[0m\u001b[1;33m(\u001b[0m\u001b[0meval_results\u001b[0m\u001b[1;33m)\u001b[0m\u001b[1;33m\u001b[0m\u001b[0m\n",
      "\u001b[1;32m~\\Miniconda3\\lib\\site-packages\\tensorflow\\python\\estimator\\estimator.py\u001b[0m in \u001b[0;36mevaluate\u001b[1;34m(self, input_fn, steps, hooks, checkpoint_path, name)\u001b[0m\n\u001b[0;32m    461\u001b[0m         (scaffold, update_op,\n\u001b[0;32m    462\u001b[0m          \u001b[0meval_dict\u001b[0m\u001b[1;33m,\u001b[0m \u001b[0mall_hooks\u001b[0m\u001b[1;33m)\u001b[0m \u001b[1;33m=\u001b[0m \u001b[0mself\u001b[0m\u001b[1;33m.\u001b[0m\u001b[0m_evaluate_build_graph\u001b[0m\u001b[1;33m(\u001b[0m\u001b[1;33m\u001b[0m\u001b[0m\n\u001b[1;32m--> 463\u001b[1;33m              input_fn, hooks, checkpoint_path)\n\u001b[0m\u001b[0;32m    464\u001b[0m         return self._evaluate_run(\n\u001b[0;32m    465\u001b[0m             \u001b[0mcheckpoint_path\u001b[0m\u001b[1;33m=\u001b[0m\u001b[0mcheckpoint_path\u001b[0m\u001b[1;33m,\u001b[0m\u001b[1;33m\u001b[0m\u001b[0m\n",
      "\u001b[1;32m~\\Miniconda3\\lib\\site-packages\\tensorflow\\python\\estimator\\estimator.py\u001b[0m in \u001b[0;36m_evaluate_build_graph\u001b[1;34m(self, input_fn, hooks, checkpoint_path)\u001b[0m\n\u001b[0;32m   1461\u001b[0m                                                     model_fn_lib.ModeKeys.EVAL))\n\u001b[0;32m   1462\u001b[0m     estimator_spec = self._call_model_fn(\n\u001b[1;32m-> 1463\u001b[1;33m         features, labels, model_fn_lib.ModeKeys.EVAL, self.config)\n\u001b[0m\u001b[0;32m   1464\u001b[0m \u001b[1;33m\u001b[0m\u001b[0m\n\u001b[0;32m   1465\u001b[0m     \u001b[1;31m# Call to warm_start has to be after model_fn is called.\u001b[0m\u001b[1;33m\u001b[0m\u001b[1;33m\u001b[0m\u001b[0m\n",
      "\u001b[1;32m~\\Miniconda3\\lib\\site-packages\\tensorflow\\python\\estimator\\estimator.py\u001b[0m in \u001b[0;36m_call_model_fn\u001b[1;34m(self, features, labels, mode, config)\u001b[0m\n\u001b[0;32m   1131\u001b[0m \u001b[1;33m\u001b[0m\u001b[0m\n\u001b[0;32m   1132\u001b[0m     \u001b[0mlogging\u001b[0m\u001b[1;33m.\u001b[0m\u001b[0minfo\u001b[0m\u001b[1;33m(\u001b[0m\u001b[1;34m'Calling model_fn.'\u001b[0m\u001b[1;33m)\u001b[0m\u001b[1;33m\u001b[0m\u001b[0m\n\u001b[1;32m-> 1133\u001b[1;33m     \u001b[0mmodel_fn_results\u001b[0m \u001b[1;33m=\u001b[0m \u001b[0mself\u001b[0m\u001b[1;33m.\u001b[0m\u001b[0m_model_fn\u001b[0m\u001b[1;33m(\u001b[0m\u001b[0mfeatures\u001b[0m\u001b[1;33m=\u001b[0m\u001b[0mfeatures\u001b[0m\u001b[1;33m,\u001b[0m \u001b[1;33m**\u001b[0m\u001b[0mkwargs\u001b[0m\u001b[1;33m)\u001b[0m\u001b[1;33m\u001b[0m\u001b[0m\n\u001b[0m\u001b[0;32m   1134\u001b[0m     \u001b[0mlogging\u001b[0m\u001b[1;33m.\u001b[0m\u001b[0minfo\u001b[0m\u001b[1;33m(\u001b[0m\u001b[1;34m'Done calling model_fn.'\u001b[0m\u001b[1;33m)\u001b[0m\u001b[1;33m\u001b[0m\u001b[0m\n\u001b[0;32m   1135\u001b[0m \u001b[1;33m\u001b[0m\u001b[0m\n",
      "\u001b[1;32m<ipython-input-211-6b4692fa74b0>\u001b[0m in \u001b[0;36mcnn_model_fn\u001b[1;34m(features, labels, mode)\u001b[0m\n\u001b[0;32m     10\u001b[0m       \u001b[0mkernel_size\u001b[0m\u001b[1;33m=\u001b[0m\u001b[1;33m[\u001b[0m\u001b[1;36m5\u001b[0m\u001b[1;33m,\u001b[0m \u001b[1;36m5\u001b[0m\u001b[1;33m]\u001b[0m\u001b[1;33m,\u001b[0m\u001b[1;33m\u001b[0m\u001b[0m\n\u001b[0;32m     11\u001b[0m       \u001b[0mpadding\u001b[0m\u001b[1;33m=\u001b[0m\u001b[1;34m\"same\"\u001b[0m\u001b[1;33m,\u001b[0m\u001b[1;33m\u001b[0m\u001b[0m\n\u001b[1;32m---> 12\u001b[1;33m       activation=tf.nn.relu)\n\u001b[0m\u001b[0;32m     13\u001b[0m \u001b[1;33m\u001b[0m\u001b[0m\n\u001b[0;32m     14\u001b[0m     \u001b[1;31m# Pooling Layer #1\u001b[0m\u001b[1;33m\u001b[0m\u001b[1;33m\u001b[0m\u001b[0m\n",
      "\u001b[1;32m~\\Miniconda3\\lib\\site-packages\\tensorflow\\python\\layers\\convolutional.py\u001b[0m in \u001b[0;36mconv2d\u001b[1;34m(inputs, filters, kernel_size, strides, padding, data_format, dilation_rate, activation, use_bias, kernel_initializer, bias_initializer, kernel_regularizer, bias_regularizer, activity_regularizer, kernel_constraint, bias_constraint, trainable, name, reuse)\u001b[0m\n\u001b[0;32m    423\u001b[0m       \u001b[0m_reuse\u001b[0m\u001b[1;33m=\u001b[0m\u001b[0mreuse\u001b[0m\u001b[1;33m,\u001b[0m\u001b[1;33m\u001b[0m\u001b[0m\n\u001b[0;32m    424\u001b[0m       _scope=name)\n\u001b[1;32m--> 425\u001b[1;33m   \u001b[1;32mreturn\u001b[0m \u001b[0mlayer\u001b[0m\u001b[1;33m.\u001b[0m\u001b[0mapply\u001b[0m\u001b[1;33m(\u001b[0m\u001b[0minputs\u001b[0m\u001b[1;33m)\u001b[0m\u001b[1;33m\u001b[0m\u001b[0m\n\u001b[0m\u001b[0;32m    426\u001b[0m \u001b[1;33m\u001b[0m\u001b[0m\n\u001b[0;32m    427\u001b[0m \u001b[1;33m\u001b[0m\u001b[0m\n",
      "\u001b[1;32m~\\Miniconda3\\lib\\site-packages\\tensorflow\\python\\keras\\engine\\base_layer.py\u001b[0m in \u001b[0;36mapply\u001b[1;34m(self, inputs, *args, **kwargs)\u001b[0m\n\u001b[0;32m    803\u001b[0m       \u001b[0mOutput\u001b[0m \u001b[0mtensor\u001b[0m\u001b[1;33m(\u001b[0m\u001b[0ms\u001b[0m\u001b[1;33m)\u001b[0m\u001b[1;33m.\u001b[0m\u001b[1;33m\u001b[0m\u001b[0m\n\u001b[0;32m    804\u001b[0m     \"\"\"\n\u001b[1;32m--> 805\u001b[1;33m     \u001b[1;32mreturn\u001b[0m \u001b[0mself\u001b[0m\u001b[1;33m.\u001b[0m\u001b[0m__call__\u001b[0m\u001b[1;33m(\u001b[0m\u001b[0minputs\u001b[0m\u001b[1;33m,\u001b[0m \u001b[1;33m*\u001b[0m\u001b[0margs\u001b[0m\u001b[1;33m,\u001b[0m \u001b[1;33m**\u001b[0m\u001b[0mkwargs\u001b[0m\u001b[1;33m)\u001b[0m\u001b[1;33m\u001b[0m\u001b[0m\n\u001b[0m\u001b[0;32m    806\u001b[0m \u001b[1;33m\u001b[0m\u001b[0m\n\u001b[0;32m    807\u001b[0m   \u001b[1;32mdef\u001b[0m \u001b[0m_set_learning_phase_metadata\u001b[0m\u001b[1;33m(\u001b[0m\u001b[0mself\u001b[0m\u001b[1;33m,\u001b[0m \u001b[0minputs\u001b[0m\u001b[1;33m,\u001b[0m \u001b[0moutputs\u001b[0m\u001b[1;33m)\u001b[0m\u001b[1;33m:\u001b[0m\u001b[1;33m\u001b[0m\u001b[0m\n",
      "\u001b[1;32m~\\Miniconda3\\lib\\site-packages\\tensorflow\\python\\layers\\base.py\u001b[0m in \u001b[0;36m__call__\u001b[1;34m(self, inputs, *args, **kwargs)\u001b[0m\n\u001b[0;32m    360\u001b[0m \u001b[1;33m\u001b[0m\u001b[0m\n\u001b[0;32m    361\u001b[0m       \u001b[1;31m# Actually call layer\u001b[0m\u001b[1;33m\u001b[0m\u001b[1;33m\u001b[0m\u001b[0m\n\u001b[1;32m--> 362\u001b[1;33m       \u001b[0moutputs\u001b[0m \u001b[1;33m=\u001b[0m \u001b[0msuper\u001b[0m\u001b[1;33m(\u001b[0m\u001b[0mLayer\u001b[0m\u001b[1;33m,\u001b[0m \u001b[0mself\u001b[0m\u001b[1;33m)\u001b[0m\u001b[1;33m.\u001b[0m\u001b[0m__call__\u001b[0m\u001b[1;33m(\u001b[0m\u001b[0minputs\u001b[0m\u001b[1;33m,\u001b[0m \u001b[1;33m*\u001b[0m\u001b[0margs\u001b[0m\u001b[1;33m,\u001b[0m \u001b[1;33m**\u001b[0m\u001b[0mkwargs\u001b[0m\u001b[1;33m)\u001b[0m\u001b[1;33m\u001b[0m\u001b[0m\n\u001b[0m\u001b[0;32m    363\u001b[0m \u001b[1;33m\u001b[0m\u001b[0m\n\u001b[0;32m    364\u001b[0m     \u001b[1;32mif\u001b[0m \u001b[1;32mnot\u001b[0m \u001b[0mcontext\u001b[0m\u001b[1;33m.\u001b[0m\u001b[0mexecuting_eagerly\u001b[0m\u001b[1;33m(\u001b[0m\u001b[1;33m)\u001b[0m\u001b[1;33m:\u001b[0m\u001b[1;33m\u001b[0m\u001b[0m\n",
      "\u001b[1;32m~\\Miniconda3\\lib\\site-packages\\tensorflow\\python\\keras\\engine\\base_layer.py\u001b[0m in \u001b[0;36m__call__\u001b[1;34m(self, inputs, *args, **kwargs)\u001b[0m\n\u001b[0;32m    734\u001b[0m \u001b[1;33m\u001b[0m\u001b[0m\n\u001b[0;32m    735\u001b[0m       \u001b[1;32mif\u001b[0m \u001b[1;32mnot\u001b[0m \u001b[0min_deferred_mode\u001b[0m\u001b[1;33m:\u001b[0m\u001b[1;33m\u001b[0m\u001b[0m\n\u001b[1;32m--> 736\u001b[1;33m         \u001b[0moutputs\u001b[0m \u001b[1;33m=\u001b[0m \u001b[0mself\u001b[0m\u001b[1;33m.\u001b[0m\u001b[0mcall\u001b[0m\u001b[1;33m(\u001b[0m\u001b[0minputs\u001b[0m\u001b[1;33m,\u001b[0m \u001b[1;33m*\u001b[0m\u001b[0margs\u001b[0m\u001b[1;33m,\u001b[0m \u001b[1;33m**\u001b[0m\u001b[0mkwargs\u001b[0m\u001b[1;33m)\u001b[0m\u001b[1;33m\u001b[0m\u001b[0m\n\u001b[0m\u001b[0;32m    737\u001b[0m         \u001b[1;32mif\u001b[0m \u001b[0moutputs\u001b[0m \u001b[1;32mis\u001b[0m \u001b[1;32mNone\u001b[0m\u001b[1;33m:\u001b[0m\u001b[1;33m\u001b[0m\u001b[0m\n\u001b[0;32m    738\u001b[0m           raise ValueError('A layer\\'s `call` method should return a Tensor '\n",
      "\u001b[1;32m~\\Miniconda3\\lib\\site-packages\\tensorflow\\python\\keras\\layers\\convolutional.py\u001b[0m in \u001b[0;36mcall\u001b[1;34m(self, inputs)\u001b[0m\n\u001b[0;32m    184\u001b[0m \u001b[1;33m\u001b[0m\u001b[0m\n\u001b[0;32m    185\u001b[0m   \u001b[1;32mdef\u001b[0m \u001b[0mcall\u001b[0m\u001b[1;33m(\u001b[0m\u001b[0mself\u001b[0m\u001b[1;33m,\u001b[0m \u001b[0minputs\u001b[0m\u001b[1;33m)\u001b[0m\u001b[1;33m:\u001b[0m\u001b[1;33m\u001b[0m\u001b[0m\n\u001b[1;32m--> 186\u001b[1;33m     \u001b[0moutputs\u001b[0m \u001b[1;33m=\u001b[0m \u001b[0mself\u001b[0m\u001b[1;33m.\u001b[0m\u001b[0m_convolution_op\u001b[0m\u001b[1;33m(\u001b[0m\u001b[0minputs\u001b[0m\u001b[1;33m,\u001b[0m \u001b[0mself\u001b[0m\u001b[1;33m.\u001b[0m\u001b[0mkernel\u001b[0m\u001b[1;33m)\u001b[0m\u001b[1;33m\u001b[0m\u001b[0m\n\u001b[0m\u001b[0;32m    187\u001b[0m \u001b[1;33m\u001b[0m\u001b[0m\n\u001b[0;32m    188\u001b[0m     \u001b[1;32mif\u001b[0m \u001b[0mself\u001b[0m\u001b[1;33m.\u001b[0m\u001b[0muse_bias\u001b[0m\u001b[1;33m:\u001b[0m\u001b[1;33m\u001b[0m\u001b[0m\n",
      "\u001b[1;32m~\\Miniconda3\\lib\\site-packages\\tensorflow\\python\\ops\\nn_ops.py\u001b[0m in \u001b[0;36m__call__\u001b[1;34m(self, inp, filter)\u001b[0m\n\u001b[0;32m    866\u001b[0m \u001b[1;33m\u001b[0m\u001b[0m\n\u001b[0;32m    867\u001b[0m   \u001b[1;32mdef\u001b[0m \u001b[0m__call__\u001b[0m\u001b[1;33m(\u001b[0m\u001b[0mself\u001b[0m\u001b[1;33m,\u001b[0m \u001b[0minp\u001b[0m\u001b[1;33m,\u001b[0m \u001b[0mfilter\u001b[0m\u001b[1;33m)\u001b[0m\u001b[1;33m:\u001b[0m  \u001b[1;31m# pylint: disable=redefined-builtin\u001b[0m\u001b[1;33m\u001b[0m\u001b[0m\n\u001b[1;32m--> 868\u001b[1;33m     \u001b[1;32mreturn\u001b[0m \u001b[0mself\u001b[0m\u001b[1;33m.\u001b[0m\u001b[0mconv_op\u001b[0m\u001b[1;33m(\u001b[0m\u001b[0minp\u001b[0m\u001b[1;33m,\u001b[0m \u001b[0mfilter\u001b[0m\u001b[1;33m)\u001b[0m\u001b[1;33m\u001b[0m\u001b[0m\n\u001b[0m\u001b[0;32m    869\u001b[0m \u001b[1;33m\u001b[0m\u001b[0m\n\u001b[0;32m    870\u001b[0m \u001b[1;33m\u001b[0m\u001b[0m\n",
      "\u001b[1;32m~\\Miniconda3\\lib\\site-packages\\tensorflow\\python\\ops\\nn_ops.py\u001b[0m in \u001b[0;36m__call__\u001b[1;34m(self, inp, filter)\u001b[0m\n\u001b[0;32m    518\u001b[0m \u001b[1;33m\u001b[0m\u001b[0m\n\u001b[0;32m    519\u001b[0m   \u001b[1;32mdef\u001b[0m \u001b[0m__call__\u001b[0m\u001b[1;33m(\u001b[0m\u001b[0mself\u001b[0m\u001b[1;33m,\u001b[0m \u001b[0minp\u001b[0m\u001b[1;33m,\u001b[0m \u001b[0mfilter\u001b[0m\u001b[1;33m)\u001b[0m\u001b[1;33m:\u001b[0m  \u001b[1;31m# pylint: disable=redefined-builtin\u001b[0m\u001b[1;33m\u001b[0m\u001b[0m\n\u001b[1;32m--> 520\u001b[1;33m     \u001b[1;32mreturn\u001b[0m \u001b[0mself\u001b[0m\u001b[1;33m.\u001b[0m\u001b[0mcall\u001b[0m\u001b[1;33m(\u001b[0m\u001b[0minp\u001b[0m\u001b[1;33m,\u001b[0m \u001b[0mfilter\u001b[0m\u001b[1;33m)\u001b[0m\u001b[1;33m\u001b[0m\u001b[0m\n\u001b[0m\u001b[0;32m    521\u001b[0m \u001b[1;33m\u001b[0m\u001b[0m\n\u001b[0;32m    522\u001b[0m \u001b[1;33m\u001b[0m\u001b[0m\n",
      "\u001b[1;32m~\\Miniconda3\\lib\\site-packages\\tensorflow\\python\\ops\\nn_ops.py\u001b[0m in \u001b[0;36m__call__\u001b[1;34m(self, inp, filter)\u001b[0m\n\u001b[0;32m    202\u001b[0m         \u001b[0mpadding\u001b[0m\u001b[1;33m=\u001b[0m\u001b[0mself\u001b[0m\u001b[1;33m.\u001b[0m\u001b[0mpadding\u001b[0m\u001b[1;33m,\u001b[0m\u001b[1;33m\u001b[0m\u001b[0m\n\u001b[0;32m    203\u001b[0m         \u001b[0mdata_format\u001b[0m\u001b[1;33m=\u001b[0m\u001b[0mself\u001b[0m\u001b[1;33m.\u001b[0m\u001b[0mdata_format\u001b[0m\u001b[1;33m,\u001b[0m\u001b[1;33m\u001b[0m\u001b[0m\n\u001b[1;32m--> 204\u001b[1;33m         name=self.name)\n\u001b[0m\u001b[0;32m    205\u001b[0m \u001b[1;33m\u001b[0m\u001b[0m\n\u001b[0;32m    206\u001b[0m \u001b[1;33m\u001b[0m\u001b[0m\n",
      "\u001b[1;32m~\\Miniconda3\\lib\\site-packages\\tensorflow\\python\\ops\\gen_nn_ops.py\u001b[0m in \u001b[0;36mconv2d\u001b[1;34m(input, filter, strides, padding, use_cudnn_on_gpu, data_format, dilations, name)\u001b[0m\n\u001b[0;32m   1040\u001b[0m         \u001b[1;34m\"Conv2D\"\u001b[0m\u001b[1;33m,\u001b[0m \u001b[0minput\u001b[0m\u001b[1;33m=\u001b[0m\u001b[0minput\u001b[0m\u001b[1;33m,\u001b[0m \u001b[0mfilter\u001b[0m\u001b[1;33m=\u001b[0m\u001b[0mfilter\u001b[0m\u001b[1;33m,\u001b[0m \u001b[0mstrides\u001b[0m\u001b[1;33m=\u001b[0m\u001b[0mstrides\u001b[0m\u001b[1;33m,\u001b[0m\u001b[1;33m\u001b[0m\u001b[0m\n\u001b[0;32m   1041\u001b[0m         \u001b[0mpadding\u001b[0m\u001b[1;33m=\u001b[0m\u001b[0mpadding\u001b[0m\u001b[1;33m,\u001b[0m \u001b[0muse_cudnn_on_gpu\u001b[0m\u001b[1;33m=\u001b[0m\u001b[0muse_cudnn_on_gpu\u001b[0m\u001b[1;33m,\u001b[0m\u001b[1;33m\u001b[0m\u001b[0m\n\u001b[1;32m-> 1042\u001b[1;33m         data_format=data_format, dilations=dilations, name=name)\n\u001b[0m\u001b[0;32m   1043\u001b[0m     \u001b[0m_result\u001b[0m \u001b[1;33m=\u001b[0m \u001b[0m_op\u001b[0m\u001b[1;33m.\u001b[0m\u001b[0moutputs\u001b[0m\u001b[1;33m[\u001b[0m\u001b[1;33m:\u001b[0m\u001b[1;33m]\u001b[0m\u001b[1;33m\u001b[0m\u001b[0m\n\u001b[0;32m   1044\u001b[0m     \u001b[0m_inputs_flat\u001b[0m \u001b[1;33m=\u001b[0m \u001b[0m_op\u001b[0m\u001b[1;33m.\u001b[0m\u001b[0minputs\u001b[0m\u001b[1;33m\u001b[0m\u001b[0m\n",
      "\u001b[1;32m~\\Miniconda3\\lib\\site-packages\\tensorflow\\python\\framework\\op_def_library.py\u001b[0m in \u001b[0;36m_apply_op_helper\u001b[1;34m(self, op_type_name, name, **keywords)\u001b[0m\n\u001b[0;32m    607\u001b[0m               _SatisfiesTypeConstraint(base_type,\n\u001b[0;32m    608\u001b[0m                                        \u001b[0m_Attr\u001b[0m\u001b[1;33m(\u001b[0m\u001b[0mop_def\u001b[0m\u001b[1;33m,\u001b[0m \u001b[0minput_arg\u001b[0m\u001b[1;33m.\u001b[0m\u001b[0mtype_attr\u001b[0m\u001b[1;33m)\u001b[0m\u001b[1;33m,\u001b[0m\u001b[1;33m\u001b[0m\u001b[0m\n\u001b[1;32m--> 609\u001b[1;33m                                        param_name=input_name)\n\u001b[0m\u001b[0;32m    610\u001b[0m             \u001b[0mattrs\u001b[0m\u001b[1;33m[\u001b[0m\u001b[0minput_arg\u001b[0m\u001b[1;33m.\u001b[0m\u001b[0mtype_attr\u001b[0m\u001b[1;33m]\u001b[0m \u001b[1;33m=\u001b[0m \u001b[0mattr_value\u001b[0m\u001b[1;33m\u001b[0m\u001b[0m\n\u001b[0;32m    611\u001b[0m             \u001b[0minferred_from\u001b[0m\u001b[1;33m[\u001b[0m\u001b[0minput_arg\u001b[0m\u001b[1;33m.\u001b[0m\u001b[0mtype_attr\u001b[0m\u001b[1;33m]\u001b[0m \u001b[1;33m=\u001b[0m \u001b[0minput_name\u001b[0m\u001b[1;33m\u001b[0m\u001b[0m\n",
      "\u001b[1;32m~\\Miniconda3\\lib\\site-packages\\tensorflow\\python\\framework\\op_def_library.py\u001b[0m in \u001b[0;36m_SatisfiesTypeConstraint\u001b[1;34m(dtype, attr_def, param_name)\u001b[0m\n\u001b[0;32m     58\u001b[0m           \u001b[1;34m\"allowed values: %s\"\u001b[0m \u001b[1;33m%\u001b[0m\u001b[1;33m\u001b[0m\u001b[0m\n\u001b[0;32m     59\u001b[0m           (param_name, dtypes.as_dtype(dtype).name,\n\u001b[1;32m---> 60\u001b[1;33m            \", \".join(dtypes.as_dtype(x).name for x in allowed_list)))\n\u001b[0m\u001b[0;32m     61\u001b[0m \u001b[1;33m\u001b[0m\u001b[0m\n\u001b[0;32m     62\u001b[0m \u001b[1;33m\u001b[0m\u001b[0m\n",
      "\u001b[1;31mTypeError\u001b[0m: Value passed to parameter 'input' has DataType uint8 not in list of allowed values: float16, bfloat16, float32, float64"
     ]
    }
   ],
   "source": [
    "eval_input_fn = tf.estimator.inputs.numpy_input_fn(\n",
    "    x={\"x\": eval_data},\n",
    "    y=eval_labels,\n",
    "    num_epochs=1,\n",
    "    shuffle=False)\n",
    "\n",
    "eval_results = mnist_classifier.evaluate(input_fn=eval_input_fn)\n",
    "print(eval_results)"
   ]
  },
  {
   "cell_type": "code",
   "execution_count": 86,
   "metadata": {},
   "outputs": [],
   "source": [
    "import tensorflow as tf\n",
    "mnist = tf.keras.datasets.mnist\n",
    "\n",
    "# (x_train, y_train),(x_test, y_test) = mnist.load_data()\n",
    "# x_train, x_test = x_train / 255.0, x_test / 255.0\n",
    "train_data, test_data = train_data/255.0, test_data/255.0\n",
    "\n",
    "model = tf.keras.models.Sequential([\n",
    "  tf.keras.layers.Flatten(input_shape=(150, 150)),\n",
    "  tf.keras.layers.Dense(2048, activation=tf.nn.relu),\n",
    "  tf.keras.layers.Dropout(0.2),\n",
    "\n",
    "  tf.keras.layers.Flatten(input_shape=(32, 32)),\n",
    "  tf.keras.layers.Dense(512, activation=tf.nn.relu),\n",
    "  tf.keras.layers.Dropout(0.2),\n",
    " \n",
    "  tf.keras.layers.Dense(10, activation=tf.nn.softmax)\n",
    "])\n",
    "model.compile(optimizer='adam',\n",
    "              loss='sparse_categorical_crossentropy',\n",
    "              metrics=['accuracy'])\n",
    "\n",
    "# model.fit(train_data, train_labels, epochs=20)\n",
    "# model.evaluate(test_data, test_labels)"
   ]
  },
  {
   "cell_type": "code",
   "execution_count": 87,
   "metadata": {},
   "outputs": [
    {
     "name": "stdout",
     "output_type": "stream",
     "text": [
      "Epoch 1/20\n",
      "192/594 [========>.....................] - ETA: 18s - loss: 2.2963 - acc: 0.1406"
     ]
    },
    {
     "ename": "KeyboardInterrupt",
     "evalue": "",
     "output_type": "error",
     "traceback": [
      "\u001b[1;31m---------------------------------------------------------------------------\u001b[0m",
      "\u001b[1;31mKeyboardInterrupt\u001b[0m                         Traceback (most recent call last)",
      "\u001b[1;32m<ipython-input-87-2f4d03152703>\u001b[0m in \u001b[0;36m<module>\u001b[1;34m\u001b[0m\n\u001b[1;32m----> 1\u001b[1;33m \u001b[0mmodel\u001b[0m\u001b[1;33m.\u001b[0m\u001b[0mfit\u001b[0m\u001b[1;33m(\u001b[0m\u001b[0mtrain_data\u001b[0m\u001b[1;33m,\u001b[0m \u001b[0mtrain_labels\u001b[0m\u001b[1;33m,\u001b[0m \u001b[0mepochs\u001b[0m\u001b[1;33m=\u001b[0m\u001b[1;36m20\u001b[0m\u001b[1;33m)\u001b[0m\u001b[1;33m\u001b[0m\u001b[0m\n\u001b[0m",
      "\u001b[1;32m~\\Miniconda3\\lib\\site-packages\\tensorflow\\python\\keras\\engine\\training.py\u001b[0m in \u001b[0;36mfit\u001b[1;34m(self, x, y, batch_size, epochs, verbose, callbacks, validation_split, validation_data, shuffle, class_weight, sample_weight, initial_epoch, steps_per_epoch, validation_steps, **kwargs)\u001b[0m\n\u001b[0;32m   1361\u001b[0m           \u001b[0minitial_epoch\u001b[0m\u001b[1;33m=\u001b[0m\u001b[0minitial_epoch\u001b[0m\u001b[1;33m,\u001b[0m\u001b[1;33m\u001b[0m\u001b[0m\n\u001b[0;32m   1362\u001b[0m           \u001b[0msteps_per_epoch\u001b[0m\u001b[1;33m=\u001b[0m\u001b[0msteps_per_epoch\u001b[0m\u001b[1;33m,\u001b[0m\u001b[1;33m\u001b[0m\u001b[0m\n\u001b[1;32m-> 1363\u001b[1;33m           validation_steps=validation_steps)\n\u001b[0m\u001b[0;32m   1364\u001b[0m \u001b[1;33m\u001b[0m\u001b[0m\n\u001b[0;32m   1365\u001b[0m   def evaluate(self,\n",
      "\u001b[1;32m~\\Miniconda3\\lib\\site-packages\\tensorflow\\python\\keras\\engine\\training_arrays.py\u001b[0m in \u001b[0;36mfit_loop\u001b[1;34m(model, inputs, targets, sample_weights, batch_size, epochs, verbose, callbacks, val_inputs, val_targets, val_sample_weights, shuffle, callback_metrics, initial_epoch, steps_per_epoch, validation_steps)\u001b[0m\n\u001b[0;32m    262\u001b[0m           \u001b[0mins_batch\u001b[0m\u001b[1;33m[\u001b[0m\u001b[0mi\u001b[0m\u001b[1;33m]\u001b[0m \u001b[1;33m=\u001b[0m \u001b[0mins_batch\u001b[0m\u001b[1;33m[\u001b[0m\u001b[0mi\u001b[0m\u001b[1;33m]\u001b[0m\u001b[1;33m.\u001b[0m\u001b[0mtoarray\u001b[0m\u001b[1;33m(\u001b[0m\u001b[1;33m)\u001b[0m\u001b[1;33m\u001b[0m\u001b[0m\n\u001b[0;32m    263\u001b[0m \u001b[1;33m\u001b[0m\u001b[0m\n\u001b[1;32m--> 264\u001b[1;33m         \u001b[0mouts\u001b[0m \u001b[1;33m=\u001b[0m \u001b[0mf\u001b[0m\u001b[1;33m(\u001b[0m\u001b[0mins_batch\u001b[0m\u001b[1;33m)\u001b[0m\u001b[1;33m\u001b[0m\u001b[0m\n\u001b[0m\u001b[0;32m    265\u001b[0m         \u001b[1;32mif\u001b[0m \u001b[1;32mnot\u001b[0m \u001b[0misinstance\u001b[0m\u001b[1;33m(\u001b[0m\u001b[0mouts\u001b[0m\u001b[1;33m,\u001b[0m \u001b[0mlist\u001b[0m\u001b[1;33m)\u001b[0m\u001b[1;33m:\u001b[0m\u001b[1;33m\u001b[0m\u001b[0m\n\u001b[0;32m    266\u001b[0m           \u001b[0mouts\u001b[0m \u001b[1;33m=\u001b[0m \u001b[1;33m[\u001b[0m\u001b[0mouts\u001b[0m\u001b[1;33m]\u001b[0m\u001b[1;33m\u001b[0m\u001b[0m\n",
      "\u001b[1;32m~\\Miniconda3\\lib\\site-packages\\tensorflow\\python\\keras\\backend.py\u001b[0m in \u001b[0;36m__call__\u001b[1;34m(self, inputs)\u001b[0m\n\u001b[0;32m   2912\u001b[0m       \u001b[0mself\u001b[0m\u001b[1;33m.\u001b[0m\u001b[0m_make_callable\u001b[0m\u001b[1;33m(\u001b[0m\u001b[0mfeed_arrays\u001b[0m\u001b[1;33m,\u001b[0m \u001b[0mfeed_symbols\u001b[0m\u001b[1;33m,\u001b[0m \u001b[0msymbol_vals\u001b[0m\u001b[1;33m,\u001b[0m \u001b[0msession\u001b[0m\u001b[1;33m)\u001b[0m\u001b[1;33m\u001b[0m\u001b[0m\n\u001b[0;32m   2913\u001b[0m \u001b[1;33m\u001b[0m\u001b[0m\n\u001b[1;32m-> 2914\u001b[1;33m     \u001b[0mfetched\u001b[0m \u001b[1;33m=\u001b[0m \u001b[0mself\u001b[0m\u001b[1;33m.\u001b[0m\u001b[0m_callable_fn\u001b[0m\u001b[1;33m(\u001b[0m\u001b[1;33m*\u001b[0m\u001b[0marray_vals\u001b[0m\u001b[1;33m)\u001b[0m\u001b[1;33m\u001b[0m\u001b[0m\n\u001b[0m\u001b[0;32m   2915\u001b[0m     \u001b[0mself\u001b[0m\u001b[1;33m.\u001b[0m\u001b[0m_call_fetch_callbacks\u001b[0m\u001b[1;33m(\u001b[0m\u001b[0mfetched\u001b[0m\u001b[1;33m[\u001b[0m\u001b[1;33m-\u001b[0m\u001b[0mlen\u001b[0m\u001b[1;33m(\u001b[0m\u001b[0mself\u001b[0m\u001b[1;33m.\u001b[0m\u001b[0m_fetches\u001b[0m\u001b[1;33m)\u001b[0m\u001b[1;33m:\u001b[0m\u001b[1;33m]\u001b[0m\u001b[1;33m)\u001b[0m\u001b[1;33m\u001b[0m\u001b[0m\n\u001b[0;32m   2916\u001b[0m     \u001b[1;32mreturn\u001b[0m \u001b[0mfetched\u001b[0m\u001b[1;33m[\u001b[0m\u001b[1;33m:\u001b[0m\u001b[0mlen\u001b[0m\u001b[1;33m(\u001b[0m\u001b[0mself\u001b[0m\u001b[1;33m.\u001b[0m\u001b[0moutputs\u001b[0m\u001b[1;33m)\u001b[0m\u001b[1;33m]\u001b[0m\u001b[1;33m\u001b[0m\u001b[0m\n",
      "\u001b[1;32m~\\Miniconda3\\lib\\site-packages\\tensorflow\\python\\client\\session.py\u001b[0m in \u001b[0;36m__call__\u001b[1;34m(self, *args, **kwargs)\u001b[0m\n\u001b[0;32m   1380\u001b[0m           ret = tf_session.TF_SessionRunCallable(\n\u001b[0;32m   1381\u001b[0m               \u001b[0mself\u001b[0m\u001b[1;33m.\u001b[0m\u001b[0m_session\u001b[0m\u001b[1;33m.\u001b[0m\u001b[0m_session\u001b[0m\u001b[1;33m,\u001b[0m \u001b[0mself\u001b[0m\u001b[1;33m.\u001b[0m\u001b[0m_handle\u001b[0m\u001b[1;33m,\u001b[0m \u001b[0margs\u001b[0m\u001b[1;33m,\u001b[0m \u001b[0mstatus\u001b[0m\u001b[1;33m,\u001b[0m\u001b[1;33m\u001b[0m\u001b[0m\n\u001b[1;32m-> 1382\u001b[1;33m               run_metadata_ptr)\n\u001b[0m\u001b[0;32m   1383\u001b[0m         \u001b[1;32mif\u001b[0m \u001b[0mrun_metadata\u001b[0m\u001b[1;33m:\u001b[0m\u001b[1;33m\u001b[0m\u001b[0m\n\u001b[0;32m   1384\u001b[0m           \u001b[0mproto_data\u001b[0m \u001b[1;33m=\u001b[0m \u001b[0mtf_session\u001b[0m\u001b[1;33m.\u001b[0m\u001b[0mTF_GetBuffer\u001b[0m\u001b[1;33m(\u001b[0m\u001b[0mrun_metadata_ptr\u001b[0m\u001b[1;33m)\u001b[0m\u001b[1;33m\u001b[0m\u001b[0m\n",
      "\u001b[1;31mKeyboardInterrupt\u001b[0m: "
     ]
    }
   ],
   "source": [
    "model.fit(train_data, train_labels, epochs=20)"
   ]
  },
  {
   "cell_type": "code",
   "execution_count": 90,
   "metadata": {},
   "outputs": [],
   "source": [
    "(x_train, y_train),(x_test, y_test) = mnist.load_data()\n",
    "x_train, x_test = x_train / 255.0, x_test / 255.0"
   ]
  },
  {
   "cell_type": "code",
   "execution_count": 95,
   "metadata": {},
   "outputs": [
    {
     "data": {
      "text/plain": [
       "{1, 2, 3, 4, 5, 6, 7, 8, 9}"
      ]
     },
     "execution_count": 95,
     "metadata": {},
     "output_type": "execute_result"
    }
   ],
   "source": [
    "set(train_labels)"
   ]
  },
  {
   "cell_type": "code",
   "execution_count": null,
   "metadata": {},
   "outputs": [],
   "source": []
  }
 ],
 "metadata": {
  "kernelspec": {
   "display_name": "Python 3",
   "language": "python",
   "name": "python3"
  },
  "language_info": {
   "codemirror_mode": {
    "name": "ipython",
    "version": 3
   },
   "file_extension": ".py",
   "mimetype": "text/x-python",
   "name": "python",
   "nbconvert_exporter": "python",
   "pygments_lexer": "ipython3",
   "version": "3.6.5"
  }
 },
 "nbformat": 4,
 "nbformat_minor": 2
}
